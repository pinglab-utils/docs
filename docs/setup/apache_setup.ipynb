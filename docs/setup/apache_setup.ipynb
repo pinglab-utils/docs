{
 "cells": [
  {
   "cell_type": "markdown",
   "metadata": {},
   "source": [
    "Apache2 is the world's most used webserver and the webserver that we are currently using to serve our application on the internet. More information on apache can be found [here](https://httpd.apache.org/)."
   ]
  },
  {
   "cell_type": "markdown",
   "metadata": {},
   "source": [
    "## Downloading and Installing apache2\n",
    "\n",
    "apache2 normally is shipped with most \\*nix based machines(macOS, linux distros) however if it is not installed for any reason you can follow the instructions [here](http://httpd.apache.org/docs/current/install.html) for your specific machine. The rest of the docs assume you are running apache2 on some variant of Debian, in our case ubuntu."
   ]
  },
  {
   "cell_type": "markdown",
   "metadata": {},
   "source": [
    "## Connecting apache2 to flask\n",
    "\n",
    "Once apache 2 is installed we have to actually connect it to our flask instance. To do this we can use the following file as our configuration file.\n",
    "\n",
    "```apache2\n",
    "<VirtualHost *:80>\n",
    "WSGIDaemonProcess app_name python-home=path/to/python/version/directory\n",
    "                WSGIProcessGroup app_name\n",
    "                WSGIScriptAlias / /path/to/wsgi/file\n",
    "                <Directory /path/to/flask/project/directory>\n",
    "                        Order allow,deny\n",
    "                        Allow from all\n",
    "                </Directory>\n",
    "\n",
    "                ErrorLog ${APACHE_LOG_DIR}/error.log\n",
    "                LogLevel warn\n",
    "                CustomLog ${APACHE_LOG_DIR}/access.log combined\n",
    "</VirtualHost>\n",
    "\n",
    "```\n",
    "What this file does is specify where apache2 can find the python interpreter for our desired application, name the threads that run under this application, and set where the access and error logs will be placed.\n",
    "\n",
    "You need to copy the above code and put it in a file 'your_app_name.conf' and move it to the following location: /etc/apache2/sites-available. Once the file is in this directory you execute the following command:\n",
    "\n",
    "```bash\n",
    "sudo a2ensite your_app_name\n",
    "```\n",
    "this command tell apache to run the conf file for your application. If there were no error you should be able to navigate to your machines IP address and your site will be displayed there."
   ]
  }
 ],
 "metadata": {
  "kernelspec": {
   "display_name": "Python 3",
   "language": "python",
   "name": "python3"
  },
  "language_info": {
   "codemirror_mode": {
    "name": "ipython",
    "version": 3
   },
   "file_extension": ".py",
   "mimetype": "text/x-python",
   "name": "python",
   "nbconvert_exporter": "python",
   "pygments_lexer": "ipython3",
   "version": "3.6.2"
  }
 },
 "nbformat": 4,
 "nbformat_minor": 2
}
